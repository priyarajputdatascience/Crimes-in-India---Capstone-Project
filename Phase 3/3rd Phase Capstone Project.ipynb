{
 "cells": [
  {
   "cell_type": "markdown",
   "id": "091b9528",
   "metadata": {},
   "source": [
    "# Phase 3: SQL Operations"
   ]
  },
  {
   "cell_type": "markdown",
   "id": "8cdd4f64",
   "metadata": {},
   "source": [
    "* 3.1\tInsert records from 42_District_wise_crimes_committed_against_women_2001_2012.csv into a table.\n",
    "\n",
    "\n",
    "\n",
    "* 3.2\tWrite SQL query to find the highest number of rapes & Kidnappings that happened in which state, District, and year.\n",
    "\n",
    "\n",
    "\n",
    "* 3.3\tWrite SQL query to find All the lowest number of rapes & Kidnappings that happened in which state, District, and year.\n",
    "\n",
    "\n",
    "\n",
    "* 3.4\tInsert records from 02_District_wise_crimes_committed_against_ST_2001_2012.csv into a new table\n",
    "\n",
    "\n",
    "\n",
    "* 3.5\tWrite SQL query to find the highest number of dacoity/robbery in which district.\n",
    "\n",
    "\n",
    "\n",
    "* 3.6\tWrite SQL query to find in which districts(All) the lowest number of murders happened.\n",
    "\n",
    "\n",
    "\n",
    "* 3.7\tWrite SQL query to find the number of murders in ascending order in district and year wise.\n",
    "\n",
    "\n",
    "\n",
    "* 3.8.1\tInsert records of STATE/UT, DISTRICT, YEAR, MURDER, ATTEMPT TO MURDER, and RAPE columns only from 01_District_wise_crimes_committed_IPC_2001_2012.csv into a new table.\n",
    "\n",
    "\n",
    "\n",
    "* 3.8.2\tWrite SQL query to find which District in each state/UT has the highest number of murders year wise. Your output should show STATE/UT, YEAR, DISTRICT, and MURDERS.\n",
    "\n",
    "\n",
    "\n",
    "* 3.8.3\tStore the above data (the result of 3.2) in DataFrame and analyze districts that appear 3 or more than 3 years and print the corresponding state/UT, district, murders, and year in descending order.\n",
    "\n",
    "\n",
    "\n",
    "* 3.8.4\tUse appropriate graphs to show your data (the result of 3.8.3)."
   ]
  },
  {
   "cell_type": "code",
   "execution_count": 2,
   "id": "4cff1c2f",
   "metadata": {},
   "outputs": [],
   "source": [
    "import sqlite3\n",
    "import csv\n",
    "import pandas as pd"
   ]
  },
  {
   "cell_type": "code",
   "execution_count": 3,
   "id": "cdccd62d",
   "metadata": {},
   "outputs": [],
   "source": [
    "db=sqlite3.connect(\"crime_database\")"
   ]
  },
  {
   "cell_type": "code",
   "execution_count": 4,
   "id": "f9e340ca",
   "metadata": {},
   "outputs": [],
   "source": [
    "cursor=db.cursor()"
   ]
  },
  {
   "cell_type": "code",
   "execution_count": 7,
   "id": "01f746bd",
   "metadata": {},
   "outputs": [],
   "source": [
    "cursor.execute(\"CREATE TABLE crime_against_women_new8(state UT TEXT,DISTRICT TEXT,Year INT,Rape INT,Kidnapping INT,Dowry Deaths INT,Assault INT,Insult  INT,Cruelty by Husband  INT,Importation of Girls INT) \")\n",
    "db.commit()"
   ]
  },
  {
   "cell_type": "markdown",
   "id": "f8d8deb7",
   "metadata": {},
   "source": [
    "# 3.1) Insert records from 42_District_wise_crimes_committed_against_women_2001_2012.csv into a table:-"
   ]
  },
  {
   "cell_type": "code",
   "execution_count": 8,
   "id": "e15050f0",
   "metadata": {},
   "outputs": [],
   "source": [
    "with open('42_District_wise_crimes_committed_against_women_2001_2012.csv','r') as file :\n",
    "    #r here is read as\n",
    "    no_records=0\n",
    "    for row in file:\n",
    "        cursor.execute(\"INSERT INTO crime_against_women_new8 VALUES(?,?,?,?,?,?,?,?,?,?)\",row.split(\",\"))#it will split the data row.split\n",
    "        db.commit()\n",
    "        no_records += 1"
   ]
  },
  {
   "cell_type": "code",
   "execution_count": 9,
   "id": "6416f800",
   "metadata": {},
   "outputs": [
    {
     "name": "stdout",
     "output_type": "stream",
     "text": [
      "9018 Records Inserted\n"
     ]
    }
   ],
   "source": [
    "print(no_records,'Records Inserted') "
   ]
  },
  {
   "cell_type": "markdown",
   "id": "22fe8da9",
   "metadata": {},
   "source": [
    "# 3.2)\tWrite SQL query to find the highest number of rapes & Kidnappings that happened in which state, District, and year:-"
   ]
  },
  {
   "cell_type": "code",
   "execution_count": 10,
   "id": "2e2a64a0",
   "metadata": {},
   "outputs": [
    {
     "name": "stdout",
     "output_type": "stream",
     "text": [
      "('\"STATE/UT\"', '\"DISTRICT\"', '\"Year\"', '\"Rape\"', '\"Kidnapping and Abduction\"')\n",
      "('\"UTTAR PRADESH\"', '\"TOTAL\"', 2012, 3425, 7910)\n",
      "('\"UTTAR PRADESH\"', '\"TOTAL\"', 2011, 3406, 7525)\n",
      "('\"UTTAR PRADESH\"', '\"TOTAL\"', 2010, 3135, 5468)\n",
      "('\"UTTAR PRADESH\"', '\"TOTAL\"', 2009, 2998, 5078)\n",
      "('\"UTTAR PRADESH\"', '\"TOTAL\"', 2008, 2937, 4439)\n",
      "('\"UTTAR PRADESH\"', '\"TOTAL\"', 2007, 3010, 3363)\n",
      "('\"UTTAR PRADESH\"', '\"TOTAL\"', 2001, 2851, 2879)\n",
      "('\"UTTAR PRADESH\"', '\"TOTAL\"', 2006, 2900, 2551)\n",
      "('\"UTTAR PRADESH\"', '\"TOTAL\"', 2004, 2875, 2324)\n",
      "('\"UTTAR PRADESH\"', '\"TOTAL\"', 2002, 2891, 2298)\n",
      "('\"UTTAR PRADESH\"', '\"TOTAL\"', 2005, 2921, 2256)\n",
      "('\"RAJASTHAN\"', '\"TOTAL\"', 2003, 2738, 1750)\n"
     ]
    }
   ],
   "source": [
    "result=cursor.execute(\"SELECT  state UT, DISTRICT ,Year ,MAX(Rape), MAX(Kidnapping) FROM crime_against_women_new8 WHERE NOT DISTRICT='TOTAL' AND NOT DISTRICT='DELHI UT TOTAL' GROUP BY Year ORDER BY Kidnapping DESC\")\n",
    "for row in result:\n",
    "    print(row)"
   ]
  },
  {
   "cell_type": "markdown",
   "id": "55885c8f",
   "metadata": {},
   "source": [
    "* The highest district and state in terms of rape and kidnapping incidents in UTTAR PRADESH (which had 3425 rape cases and 7910 kidnapping cases in 2010)."
   ]
  },
  {
   "cell_type": "markdown",
   "id": "b1f00881",
   "metadata": {},
   "source": [
    "# 3.3) Write SQL query to find All the lowest number of rapes & Kidnappings that happened in which state, District, and year:-"
   ]
  },
  {
   "cell_type": "code",
   "execution_count": 11,
   "id": "74d7609f",
   "metadata": {},
   "outputs": [
    {
     "name": "stdout",
     "output_type": "stream",
     "text": [
      "('\"A & N ISLANDS\"', '\"NICOBAR\"', 2001, 0, 0)\n",
      "('\"ANDHRA PRADESH\"', '\"GUNTAKAL RLY.\"', 2001, 0, 0)\n",
      "('\"ARUNACHAL PRADESH\"', '\"TAWANG\"', 2001, 0, 0)\n",
      "('\"ASSAM\"', '\"C.I.D.\"', 2001, 0, 0)\n",
      "('\"BIHAR\"', '\"ARWAL\"', 2001, 0, 0)\n",
      "('\"CHHATTISGARH\"', '\"BIZAPUR\"', 2001, 0, 0)\n",
      "('\"DAMAN & DIU\"', '\"DIU\"', 2001, 0, 0)\n",
      "('\"DELHI\"', '\"S.T.F.\"', 2001, 0, 0)\n",
      "('\"GUJARAT\"', '\"W.RLY\"', 2001, 0, 0)\n",
      "('\"HARYANA\"', '\"GRP\"', 2002, 0, 0)\n",
      "('\"HIMACHAL PRADESH\"', '\"G.R.P.\"', 2001, 0, 0)\n",
      "('\"JAMMU & KASHMIR\"', '\"CRIME JAMMU\"', 2001, 0, 0)\n",
      "('\"JHARKHAND\"', '\"DEOGHAR\"', 2001, 0, 0)\n",
      "('\"KARNATAKA\"', '\"CHITRADURGA\"', 2001, 0, 0)\n",
      "('\"KERALA\"', '\"CBCID\"', 2001, 0, 0)\n",
      "('\"LAKSHADWEEP\"', '\"LAKSHADWEEP\"', 2001, 0, 0)\n",
      "('\"MADHYA PRADESH\"', '\"INDORE RLY.\"', 2001, 0, 0)\n",
      "('\"MAHARASHTRA\"', '\"MUMBAI RLY.\"', 2001, 0, 0)\n",
      "('\"MANIPUR\"', '\"CHURACHANDPUR\"', 2001, 0, 0)\n",
      "('\"MEGHALAYA\"', '\"GARO HILLS EAST\"', 2001, 0, 0)\n",
      "('\"MIZORAM\"', '\"AIZAWL\"', 2001, 0, 0)\n",
      "('\"NAGALAND\"', '\"KIPHIRE\"', 2001, 0, 0)\n",
      "('\"ODISHA\"', '\"RAYAGADA\"', 2001, 0, 0)\n",
      "('\"PUNJAB\"', '\"G.R.P\"', 2001, 0, 0)\n",
      "('\"RAJASTHAN\"', '\"G.R.P.\"', 2003, 0, 0)\n",
      "('\"SIKKIM\"', '\"NORTH\"', 2001, 0, 0)\n",
      "('\"TAMIL NADU\"', '\"CHENNAI\"', 2001, 0, 0)\n",
      "('\"TRIPURA\"', '\"DHALAI\"', 2001, 0, 0)\n",
      "('\"UTTAR PRADESH\"', '\"MAHARAJGANJ\"', 2002, 0, 0)\n",
      "('\"UTTARAKHAND\"', '\"NAINITAL\"', 2001, 0, 0)\n",
      "('\"WEST BENGAL\"', '\"ASANSOL\"', 2001, 0, 0)\n",
      "('\"GOA\"', '\"NORTH GOA\"', 2001, 3, 1)\n",
      "('\"PUDUCHERRY\"', '\"KARAIKAL\"', 2008, 0, 1)\n",
      "('\"D & N HAVELI\"', '\"D and N HAVELI\"', 2001, 1, 2)\n",
      "('\"CHANDIGARH\"', '\"CHANDIGARH\"', 2003, 18, 28)\n",
      "('\"STATE/UT\"', '\"DISTRICT\"', '\"Year\"', '\"Rape\"', '\"Kidnapping and Abduction\"')\n"
     ]
    }
   ],
   "source": [
    "result=cursor.execute(\"SELECT  state UT, DISTRICT ,Year ,MIN(Rape), MIN(Kidnapping) FROM crime_against_women_new1 WHERE NOT DISTRICT='TOTAL' AND NOT DISTRICT='DELHI UT TOTAL' GROUP BY UT ORDER BY Kidnapping\")\n",
    "for row in result:\n",
    "    print(row)"
   ]
  },
  {
   "cell_type": "markdown",
   "id": "b5f80bc5",
   "metadata": {},
   "source": [
    "* The aforementioned results indicate the lowest number of rapes and kidnappings in each state and year."
   ]
  },
  {
   "cell_type": "markdown",
   "id": "73bc59eb",
   "metadata": {},
   "source": [
    "# 3.4) Insert records from 02_District_wise_crimes_committed_against_ST_2001_2012.csv into a new table:-"
   ]
  },
  {
   "cell_type": "code",
   "execution_count": 12,
   "id": "cefa6693",
   "metadata": {},
   "outputs": [],
   "source": [
    "cursor.execute(\"CREATE TABLE crime_against_st_new4(state UT TEXT,DISTRICT TEXT,Year INT,Murder INT,Rape INT,Kidnapping INT,Dacoity INT,Robbery INT,Arson  INT,Hurt INT,PCR INT,POA INT,Other Crimes INT) \")\n",
    "db.commit()"
   ]
  },
  {
   "cell_type": "code",
   "execution_count": 13,
   "id": "d3b61b3e",
   "metadata": {},
   "outputs": [],
   "source": [
    "with open('02_District_wise_crimes_committed_against_ST_2001_2012.csv','r') as file :\n",
    "    # r here is read as\n",
    "    no_records=0\n",
    "    for row in file:\n",
    "        cursor.execute(\"INSERT INTO crime_against_st_new4 VALUES(?,?,?,?,?,?,?,?,?,?,?,?,?)\",row.split(\",\"))#That will divide the row of data\n",
    "        no_records += 1"
   ]
  },
  {
   "cell_type": "code",
   "execution_count": 14,
   "id": "74acfed9",
   "metadata": {},
   "outputs": [
    {
     "name": "stdout",
     "output_type": "stream",
     "text": [
      "9019 Records Inserted\n"
     ]
    }
   ],
   "source": [
    "print(no_records,'Records Inserted')"
   ]
  },
  {
   "cell_type": "markdown",
   "id": "22ac839f",
   "metadata": {},
   "source": [
    "# 3.5) Write SQL query to find the highest number of dacoity/robbery in which district:-"
   ]
  },
  {
   "cell_type": "code",
   "execution_count": 15,
   "id": "e41f1491",
   "metadata": {},
   "outputs": [
    {
     "name": "stdout",
     "output_type": "stream",
     "text": [
      "('\"STATE/UT\"', '\"DISTRICT\"', '\"Year\"', '\"Dacoity\"', '\"Robbery\"')\n",
      "('\"GUJARAT\"', '\"TOTAL\"', 2004, 29, 34)\n",
      "('\"NAGALAND\"', '\"TOTAL\"', 2001, 13, 24)\n",
      "('\"ASSAM\"', '\"TOTAL\"', 2005, 5, 14)\n",
      "('\"ODISHA\"', '\"TOTAL\"', 2009, 2, 12)\n",
      "('\"CHHATTISGARH\"', '\"TOTAL\"', 2001, 9, 7)\n",
      "('\"MADHYA PRADESH\"', '\"TOTAL\"', 2002, 2, 6)\n",
      "('\"MIZORAM\"', '\"TOTAL\"', 2002, 2, 5)\n",
      "('\"JHARKHAND\"', '\"TOTAL\"', 2012, 5, 5)\n",
      "('\"RAJASTHAN\"', '\"TOTAL\"', 2004, 0, 4)\n",
      "('\"MAHARASHTRA\"', '\"TOTAL\"', 2012, 4, 3)\n",
      "('\"KARNATAKA\"', '\"RAICHUR\"', 2004, 2, 2)\n",
      "('\"BIHAR\"', '\"PATNA\"', 2005, 0, 2)\n",
      "('\"ARUNACHAL PRADESH\"', '\"TOTAL\"', 2005, 1, 2)\n",
      "('\"TRIPURA\"', '\"SOUTH\"', 2010, 0, 1)\n",
      "('\"SIKKIM\"', '\"EAST\"', 2005, 1, 1)\n",
      "('\"KERALA\"', '\"WAYANADU\"', 2005, 0, 1)\n",
      "('\"ANDHRA PRADESH\"', '\"KARIMNAGAR\"', 2003, 0, 1)\n",
      "('\"WEST BENGAL\"', '\"24 PARGANAS NORTH\"', 2001, 0, 0)\n",
      "('\"UTTARAKHAND\"', '\"ALMORA\"', 2001, 0, 0)\n",
      "('\"UTTAR PRADESH\"', '\"AGRA\"', 2001, 0, 0)\n",
      "('\"TAMIL NADU\"', '\"ARIYALUR\"', 2001, 0, 0)\n",
      "('\"PUNJAB\"', '\"AMRITSAR\"', 2001, 0, 0)\n",
      "('\"PUDUCHERRY\"', '\"PONDICHERRY\"', 2001, 0, 0)\n",
      "('\"MEGHALAYA\"', '\"GARO HILLS EAST\"', 2001, 0, 0)\n",
      "('\"MANIPUR\"', '\"BISHNUPUR\"', 2001, 0, 0)\n",
      "('\"LAKSHADWEEP\"', '\"LAKSHADWEEP\"', 2001, 0, 0)\n",
      "('\"JAMMU & KASHMIR\"', '\"ANANTNAG\"', 2001, 0, 0)\n",
      "('\"HIMACHAL PRADESH\"', '\"BILASPUR\"', 2001, 1, 0)\n",
      "('\"HARYANA\"', '\"AMBALA\"', 2001, 0, 0)\n",
      "('\"GOA\"', '\"NORTH GOA\"', 2001, 0, 0)\n",
      "('\"DELHI\"', '\"CENTRAL\"', 2001, 0, 0)\n",
      "('\"DAMAN & DIU\"', '\"DAMAN\"', 2001, 0, 0)\n",
      "('\"D & N HAVELI\"', '\"D and N HAVELI\"', 2001, 0, 0)\n",
      "('\"CHANDIGARH\"', '\"CHANDIGARH\"', 2001, 0, 0)\n",
      "('\"A & N ISLANDS\"', '\"ANDAMAN\"', 2001, 0, 0)\n"
     ]
    }
   ],
   "source": [
    "result=cursor.execute(\"SELECT State UT,DISTRICT ,Year, MAX(Dacoity), MAX(Robbery) FROM crime_against_st_new WHERE NOT DISTRICT ='TOTAL' AND NOT DISTRICT='DELHI UT TOTAL' GROUP BY UT ORDER BY Robbery  DESC \")\n",
    "for row in result:\n",
    "    print(row)"
   ]
  },
  {
   "cell_type": "markdown",
   "id": "f6df087b",
   "metadata": {},
   "source": [
    "* In 2001, the maximum number of Daocity and Robberies occurred in Gujarat's Dahod District."
   ]
  },
  {
   "cell_type": "markdown",
   "id": "9a7c176d",
   "metadata": {},
   "source": [
    "# 3.6) Write SQL query to find in which districts(All) the lowest number of murders happened:-"
   ]
  },
  {
   "cell_type": "code",
   "execution_count": 16,
   "id": "25e82888",
   "metadata": {},
   "outputs": [
    {
     "name": "stdout",
     "output_type": "stream",
     "text": [
      "('\"A & N ISLANDS\"', '\"ANDAMAN\"', 0)\n",
      "('\"ANDHRA PRADESH\"', '\"ADILABAD\"', 0)\n",
      "('\"ARUNACHAL PRADESH\"', '\"CHANGLANG\"', 0)\n",
      "('\"ASSAM\"', '\"BARPETA\"', 0)\n",
      "('\"BIHAR\"', '\"ARWAL\"', 0)\n",
      "('\"CHANDIGARH\"', '\"CHANDIGARH\"', 0)\n",
      "('\"CHHATTISGARH\"', '\"BALRAMPUR\"', 0)\n",
      "('\"D & N HAVELI\"', '\"D and N HAVELI\"', 0)\n",
      "('\"DAMAN & DIU\"', '\"DAMAN\"', 0)\n",
      "('\"DELHI\"', '\"CENTRAL\"', 0)\n",
      "('\"GOA\"', '\"NORTH GOA\"', 0)\n",
      "('\"GUJARAT\"', '\"AHMEDABAD COMMR.\"', 0)\n",
      "('\"HARYANA\"', '\"AMBALA\"', 0)\n",
      "('\"HIMACHAL PRADESH\"', '\"BILASPUR\"', 0)\n",
      "('\"JAMMU & KASHMIR\"', '\"ANANTNAG\"', 0)\n",
      "('\"JHARKHAND\"', '\"BOKARO\"', 0)\n",
      "('\"KARNATAKA\"', '\"BAGALKOT\"', 0)\n",
      "('\"KERALA\"', '\"ALAPUZHA\"', 0)\n",
      "('\"LAKSHADWEEP\"', '\"LAKSHADWEEP\"', 0)\n",
      "('\"MADHYA PRADESH\"', '\"BETUL\"', 0)\n",
      "('\"MAHARASHTRA\"', '\"AKOLA\"', 0)\n",
      "('\"MANIPUR\"', '\"BISHNUPUR\"', 0)\n",
      "('\"MEGHALAYA\"', '\"GARO HILLS EAST\"', 0)\n",
      "('\"MIZORAM\"', '\"AIZAWL\"', 0)\n",
      "('\"NAGALAND\"', '\"DIMAPUR\"', 0)\n",
      "('\"ODISHA\"', '\"ANGUL\"', 0)\n",
      "('\"PUDUCHERRY\"', '\"PONDICHERRY\"', 0)\n",
      "('\"PUNJAB\"', '\"AMRITSAR\"', 0)\n",
      "('\"RAJASTHAN\"', '\"AJMER\"', 0)\n",
      "('\"SIKKIM\"', '\"NORTH\"', 0)\n",
      "('\"TAMIL NADU\"', '\"ARIYALUR\"', 0)\n",
      "('\"TRIPURA\"', '\"DHALAI\"', 0)\n",
      "('\"UTTAR PRADESH\"', '\"AGRA\"', 0)\n",
      "('\"UTTARAKHAND\"', '\"ALMORA\"', 0)\n",
      "('\"WEST BENGAL\"', '\"24 PARGANAS NORTH\"', 0)\n"
     ]
    }
   ],
   "source": [
    "result=cursor.execute(\"SELECT State UT,DISTRICT, Murder FROM crime_against_st_new WHERE Murder=(SELECT MIN(Murder) FROM crime_against_st_new) GROUP BY state \")\n",
    "for row in result:\n",
    "    print(row)"
   ]
  },
  {
   "cell_type": "markdown",
   "id": "1e97d38c",
   "metadata": {},
   "source": [
    "* The query's above result displays the lowest number of murders that occurred in each district."
   ]
  },
  {
   "cell_type": "markdown",
   "id": "d0f9ddfc",
   "metadata": {},
   "source": [
    "# 3.7) Write SQL query to find the number of murders in ascending order in district and year wise:-"
   ]
  },
  {
   "cell_type": "code",
   "execution_count": 17,
   "id": "bf9c34f4",
   "metadata": {},
   "outputs": [
    {
     "name": "stdout",
     "output_type": "stream",
     "text": [
      "('\"A & N ISLANDS\"', '\"ANDAMAN\"', 2001, 0)\n",
      "('\"ANDHRA PRADESH\"', '\"ADILABAD\"', 2001, 0)\n",
      "('\"ARUNACHAL PRADESH\"', '\"CHANGLANG\"', 2001, 0)\n",
      "('\"ASSAM\"', '\"BARPETA\"', 2001, 0)\n",
      "('\"CHANDIGARH\"', '\"CHANDIGARH\"', 2001, 0)\n",
      "('\"CHHATTISGARH\"', '\"BALRAMPUR\"', 2001, 0)\n",
      "('\"D & N HAVELI\"', '\"D and N HAVELI\"', 2001, 0)\n",
      "('\"DAMAN & DIU\"', '\"DAMAN\"', 2001, 0)\n",
      "('\"DELHI\"', '\"CENTRAL\"', 2001, 0)\n",
      "('\"GOA\"', '\"NORTH GOA\"', 2001, 0)\n",
      "('\"GUJARAT\"', '\"AHMEDABAD COMMR.\"', 2001, 0)\n",
      "('\"HARYANA\"', '\"AMBALA\"', 2001, 0)\n",
      "('\"HIMACHAL PRADESH\"', '\"BILASPUR\"', 2001, 0)\n",
      "('\"JAMMU & KASHMIR\"', '\"ANANTNAG\"', 2001, 0)\n",
      "('\"JHARKHAND\"', '\"BOKARO\"', 2001, 0)\n",
      "('\"KARNATAKA\"', '\"BAGALKOT\"', 2001, 0)\n",
      "('\"KERALA\"', '\"ALAPUZHA\"', 2001, 0)\n",
      "('\"LAKSHADWEEP\"', '\"LAKSHADWEEP\"', 2001, 0)\n",
      "('\"MANIPUR\"', '\"BISHNUPUR\"', 2001, 0)\n",
      "('\"MEGHALAYA\"', '\"GARO HILLS EAST\"', 2001, 0)\n",
      "('\"MIZORAM\"', '\"AIZAWL\"', 2001, 0)\n",
      "('\"NAGALAND\"', '\"DIMAPUR\"', 2001, 0)\n",
      "('\"ODISHA\"', '\"ANGUL\"', 2001, 0)\n",
      "('\"PUDUCHERRY\"', '\"PONDICHERRY\"', 2001, 0)\n",
      "('\"PUNJAB\"', '\"AMRITSAR\"', 2001, 0)\n",
      "('\"RAJASTHAN\"', '\"AJMER\"', 2001, 0)\n",
      "('\"TAMIL NADU\"', '\"ARIYALUR\"', 2001, 0)\n",
      "('\"TRIPURA\"', '\"DHALAI\"', 2001, 0)\n",
      "('\"UTTAR PRADESH\"', '\"AGRA\"', 2001, 0)\n",
      "('\"UTTARAKHAND\"', '\"ALMORA\"', 2001, 0)\n",
      "('\"WEST BENGAL\"', '\"24 PARGANAS NORTH\"', 2001, 0)\n",
      "('\"BIHAR\"', '\"ARARIA\"', 2001, 1)\n",
      "('\"MADHYA PRADESH\"', '\"BALAGHAT\"', 2001, 1)\n",
      "('\"MAHARASHTRA\"', '\"AHMEDNAGAR\"', 2001, 1)\n",
      "('\"SIKKIM\"', '\"EAST\"', 2001, 4)\n",
      "('\"STATE/UT\"', '\"DISTRICT\"', '\"Year\"', '\"Murder\"')\n"
     ]
    }
   ],
   "source": [
    "result=cursor.execute(\"SELECT  state, DISTRICT, Year,Murder FROM crime_against_st_new GROUP BY state ORDER BY Murder  \")\n",
    "for row in result:\n",
    "    print(row)"
   ]
  },
  {
   "cell_type": "markdown",
   "id": "bff0d98c",
   "metadata": {},
   "source": [
    "* District, year, and murders in ascending ranks."
   ]
  },
  {
   "cell_type": "markdown",
   "id": "087787b8",
   "metadata": {},
   "source": [
    "# 3.8.1) Insert records of STATE/UT, DISTRICT, YEAR, MURDER, ATTEMPT TO MURDER, and RAPE columns only from 01_District_wise_crimes_committed_IPC_2001_2012.csv into a new table:-"
   ]
  },
  {
   "cell_type": "code",
   "execution_count": 18,
   "id": "0925e828",
   "metadata": {},
   "outputs": [],
   "source": [
    "import pandas as pd"
   ]
  },
  {
   "cell_type": "code",
   "execution_count": 20,
   "id": "cd14fab3",
   "metadata": {},
   "outputs": [
    {
     "data": {
      "text/plain": [
       "<sqlite3.Cursor at 0x278c3f929c0>"
      ]
     },
     "execution_count": 20,
     "metadata": {},
     "output_type": "execute_result"
    }
   ],
   "source": [
    "cursor.execute (\"CREATE TABLE crime_ipc_new4(STATE UT TEXT,DISTRICT TEXT,YEAR INT, MURDER INT,ATTEMPT_to_MURDER INT,RAPE INT) \")"
   ]
  },
  {
   "cell_type": "code",
   "execution_count": 21,
   "id": "fcaaa875",
   "metadata": {},
   "outputs": [],
   "source": [
    "db.commit()"
   ]
  },
  {
   "cell_type": "code",
   "execution_count": 22,
   "id": "f4550805",
   "metadata": {
    "collapsed": true
   },
   "outputs": [
    {
     "ename": "ProgrammingError",
     "evalue": "Incorrect number of bindings supplied. The current statement uses 6, and there are 33 supplied.",
     "output_type": "error",
     "traceback": [
      "\u001b[1;31m---------------------------------------------------------------------------\u001b[0m",
      "\u001b[1;31mProgrammingError\u001b[0m                          Traceback (most recent call last)",
      "Cell \u001b[1;32mIn[22], line 5\u001b[0m\n\u001b[0;32m      3\u001b[0m no_records\u001b[38;5;241m=\u001b[39m\u001b[38;5;241m0\u001b[39m\n\u001b[0;32m      4\u001b[0m \u001b[38;5;28;01mfor\u001b[39;00m row \u001b[38;5;129;01min\u001b[39;00m file:\n\u001b[1;32m----> 5\u001b[0m     \u001b[43mcursor\u001b[49m\u001b[38;5;241;43m.\u001b[39;49m\u001b[43mexecute\u001b[49m\u001b[43m(\u001b[49m\u001b[38;5;124;43m\"\u001b[39;49m\u001b[38;5;124;43mINSERT INTO crime_ipc_new4 VALUES(?,?,?,?,?,?)\u001b[39;49m\u001b[38;5;124;43m\"\u001b[39;49m\u001b[43m,\u001b[49m\u001b[43mrow\u001b[49m\u001b[38;5;241;43m.\u001b[39;49m\u001b[43msplit\u001b[49m\u001b[43m(\u001b[49m\u001b[38;5;124;43m\"\u001b[39;49m\u001b[38;5;124;43m,\u001b[39;49m\u001b[38;5;124;43m\"\u001b[39;49m\u001b[43m)\u001b[49m\u001b[43m)\u001b[49m\u001b[38;5;66;03m#it will split the data row.split\u001b[39;00m\n\u001b[0;32m      6\u001b[0m     db\u001b[38;5;241m.\u001b[39mcommit()\n\u001b[0;32m      7\u001b[0m     no_records \u001b[38;5;241m+\u001b[39m\u001b[38;5;241m=\u001b[39m \u001b[38;5;241m1\u001b[39m\n",
      "\u001b[1;31mProgrammingError\u001b[0m: Incorrect number of bindings supplied. The current statement uses 6, and there are 33 supplied."
     ]
    }
   ],
   "source": [
    "with open('01_District_wise_crimes_committed_IPC_2001_2012.csv','r') as file :\n",
    "    #here r is read as\n",
    "    no_records=0\n",
    "    for row in file:\n",
    "        cursor.execute(\"INSERT INTO crime_ipc_new4 VALUES(?,?,?,?,?,?)\",row.split(\",\"))#it will split the data row.split\n",
    "        db.commit()\n",
    "        no_records += 1"
   ]
  },
  {
   "cell_type": "code",
   "execution_count": null,
   "id": "7a4c99d8",
   "metadata": {},
   "outputs": [],
   "source": [
    "print(no_records,'Records Inserted')"
   ]
  },
  {
   "cell_type": "markdown",
   "id": "e2d06861",
   "metadata": {},
   "source": [
    "# 3.8.2) Write SQL query to find which District in each state/UT has the highest number of murders year wise. Your output should show STATE/UT, YEAR, DISTRICT, and MURDERS:-"
   ]
  },
  {
   "cell_type": "code",
   "execution_count": 23,
   "id": "80c223f7",
   "metadata": {},
   "outputs": [],
   "source": [
    "result=cursor.execute(\"SELECT  state UT, Year,DISTRICT ,MAX(MURDER) FROM crime_ipc_new4 WHERE NOT DISTRICT='TOTAL' AND NOT DISTRICT='DELHI UT TOTAL' GROUP BY UT ORDER BY MURDER DESC\")\n",
    "for row in result:\n",
    "    print(row)"
   ]
  },
  {
   "cell_type": "code",
   "execution_count": 24,
   "id": "142acdb3",
   "metadata": {},
   "outputs": [],
   "source": [
    "dfsql=pd.read_sql(\"SELECT  state UT, Year,DISTRICT ,MAX(MURDER) AS Murder FROM crime_ipc_new4 WHERE NOT DISTRICT='TOTAL' AND NOT DISTRICT='DELHI UT TOTAL' GROUP BY UT ORDER BY MURDER DESC \",db)"
   ]
  },
  {
   "cell_type": "code",
   "execution_count": 25,
   "id": "ef4c7d20",
   "metadata": {},
   "outputs": [
    {
     "data": {
      "text/html": [
       "<div>\n",
       "<style scoped>\n",
       "    .dataframe tbody tr th:only-of-type {\n",
       "        vertical-align: middle;\n",
       "    }\n",
       "\n",
       "    .dataframe tbody tr th {\n",
       "        vertical-align: top;\n",
       "    }\n",
       "\n",
       "    .dataframe thead th {\n",
       "        text-align: right;\n",
       "    }\n",
       "</style>\n",
       "<table border=\"1\" class=\"dataframe\">\n",
       "  <thead>\n",
       "    <tr style=\"text-align: right;\">\n",
       "      <th></th>\n",
       "      <th>UT</th>\n",
       "      <th>YEAR</th>\n",
       "      <th>DISTRICT</th>\n",
       "      <th>Murder</th>\n",
       "    </tr>\n",
       "  </thead>\n",
       "  <tbody>\n",
       "  </tbody>\n",
       "</table>\n",
       "</div>"
      ],
      "text/plain": [
       "Empty DataFrame\n",
       "Columns: [UT, YEAR, DISTRICT, Murder]\n",
       "Index: []"
      ]
     },
     "execution_count": 25,
     "metadata": {},
     "output_type": "execute_result"
    }
   ],
   "source": [
    "#transforming to a dataframe\n",
    "dfsql"
   ]
  },
  {
   "cell_type": "markdown",
   "id": "a51041de",
   "metadata": {},
   "source": [
    "# 3.8.3) Store the above data (the result of 3.2) in DataFrame and analyze districts that appear 3 or more than 3 years and print the corresponding state/UT, district, murders, and year in descending order:-"
   ]
  },
  {
   "cell_type": "code",
   "execution_count": 26,
   "id": "113fd849",
   "metadata": {},
   "outputs": [
    {
     "name": "stdout",
     "output_type": "stream",
     "text": [
      "('\"STATE/UT\"', '\"DISTRICT\"', '\"Year\"', '\"Rape\"', '\"Kidnapping and Abduction\"')\n",
      "('\"UTTAR PRADESH\"', '\"TOTAL\"', 2010, 3135, 5468)\n",
      "('\"UTTAR PRADESH\"', '\"TOTAL\"', 2009, 2998, 5078)\n",
      "('\"UTTAR PRADESH\"', '\"TOTAL\"', 2008, 2937, 4439)\n",
      "('\"UTTAR PRADESH\"', '\"TOTAL\"', 2007, 3010, 3363)\n",
      "('\"ASSAM\"', '\"TOTAL\"', 2011, 1700, 3192)\n",
      "('\"UTTAR PRADESH\"', '\"TOTAL\"', 2001, 2851, 2879)\n",
      "('\"UTTAR PRADESH\"', '\"TOTAL\"', 2006, 2900, 2551)\n",
      "('\"UTTAR PRADESH\"', '\"TOTAL\"', 2004, 2875, 2324)\n",
      "('\"UTTAR PRADESH\"', '\"TOTAL\"', 2002, 2891, 2298)\n",
      "('\"UTTAR PRADESH\"', '\"TOTAL\"', 2005, 2921, 2256)\n",
      "('\"RAJASTHAN\"', '\"TOTAL\"', 2003, 2738, 1750)\n"
     ]
    }
   ],
   "source": [
    "#.3.2 Creating an SQL query to determine which state, district, and year had the greatest number of rapes and kidnappings.\n",
    "data=cursor.execute(\"SELECT  state UT, DISTRICT ,Year ,MAX(Rape), MAX(Kidnapping) FROM crime_against_women_new1 WHERE NOT DISTRICT='TOTAL' AND NOT DISTRICT='DELHI UT TOTAL' GROUP BY Year ORDER BY Kidnapping DESC\")\n",
    "for row in data:\n",
    "    print(row)"
   ]
  },
  {
   "cell_type": "markdown",
   "id": "e5520156",
   "metadata": {},
   "source": [
    "# Transforming to DataFrame:-"
   ]
  },
  {
   "cell_type": "code",
   "execution_count": 27,
   "id": "fe880a3a",
   "metadata": {},
   "outputs": [],
   "source": [
    "df=pd.read_sql(\"SELECT  state UT, DISTRICT ,Year ,MAX(Rape) AS Rape, MAX(Kidnapping) AS Kidnapping FROM crime_against_women_new1 WHERE NOT DISTRICT='TOTAL' AND NOT DISTRICT='DELHI UT TOTAL' GROUP BY Year ORDER BY Kidnapping DESC\",db)"
   ]
  },
  {
   "cell_type": "code",
   "execution_count": 28,
   "id": "16490af3",
   "metadata": {},
   "outputs": [
    {
     "data": {
      "text/html": [
       "<div>\n",
       "<style scoped>\n",
       "    .dataframe tbody tr th:only-of-type {\n",
       "        vertical-align: middle;\n",
       "    }\n",
       "\n",
       "    .dataframe tbody tr th {\n",
       "        vertical-align: top;\n",
       "    }\n",
       "\n",
       "    .dataframe thead th {\n",
       "        text-align: right;\n",
       "    }\n",
       "</style>\n",
       "<table border=\"1\" class=\"dataframe\">\n",
       "  <thead>\n",
       "    <tr style=\"text-align: right;\">\n",
       "      <th></th>\n",
       "      <th>UT</th>\n",
       "      <th>DISTRICT</th>\n",
       "      <th>Year</th>\n",
       "      <th>Rape</th>\n",
       "      <th>Kidnapping</th>\n",
       "    </tr>\n",
       "  </thead>\n",
       "  <tbody>\n",
       "    <tr>\n",
       "      <th>0</th>\n",
       "      <td>\"STATE/UT\"</td>\n",
       "      <td>\"DISTRICT\"</td>\n",
       "      <td>\"Year\"</td>\n",
       "      <td>\"Rape\"</td>\n",
       "      <td>\"Kidnapping and Abduction\"</td>\n",
       "    </tr>\n",
       "    <tr>\n",
       "      <th>1</th>\n",
       "      <td>\"UTTAR PRADESH\"</td>\n",
       "      <td>\"TOTAL\"</td>\n",
       "      <td>2010</td>\n",
       "      <td>3135</td>\n",
       "      <td>5468</td>\n",
       "    </tr>\n",
       "    <tr>\n",
       "      <th>2</th>\n",
       "      <td>\"UTTAR PRADESH\"</td>\n",
       "      <td>\"TOTAL\"</td>\n",
       "      <td>2009</td>\n",
       "      <td>2998</td>\n",
       "      <td>5078</td>\n",
       "    </tr>\n",
       "    <tr>\n",
       "      <th>3</th>\n",
       "      <td>\"UTTAR PRADESH\"</td>\n",
       "      <td>\"TOTAL\"</td>\n",
       "      <td>2008</td>\n",
       "      <td>2937</td>\n",
       "      <td>4439</td>\n",
       "    </tr>\n",
       "    <tr>\n",
       "      <th>4</th>\n",
       "      <td>\"UTTAR PRADESH\"</td>\n",
       "      <td>\"TOTAL\"</td>\n",
       "      <td>2007</td>\n",
       "      <td>3010</td>\n",
       "      <td>3363</td>\n",
       "    </tr>\n",
       "    <tr>\n",
       "      <th>5</th>\n",
       "      <td>\"ASSAM\"</td>\n",
       "      <td>\"TOTAL\"</td>\n",
       "      <td>2011</td>\n",
       "      <td>1700</td>\n",
       "      <td>3192</td>\n",
       "    </tr>\n",
       "    <tr>\n",
       "      <th>6</th>\n",
       "      <td>\"UTTAR PRADESH\"</td>\n",
       "      <td>\"TOTAL\"</td>\n",
       "      <td>2001</td>\n",
       "      <td>2851</td>\n",
       "      <td>2879</td>\n",
       "    </tr>\n",
       "    <tr>\n",
       "      <th>7</th>\n",
       "      <td>\"UTTAR PRADESH\"</td>\n",
       "      <td>\"TOTAL\"</td>\n",
       "      <td>2006</td>\n",
       "      <td>2900</td>\n",
       "      <td>2551</td>\n",
       "    </tr>\n",
       "    <tr>\n",
       "      <th>8</th>\n",
       "      <td>\"UTTAR PRADESH\"</td>\n",
       "      <td>\"TOTAL\"</td>\n",
       "      <td>2004</td>\n",
       "      <td>2875</td>\n",
       "      <td>2324</td>\n",
       "    </tr>\n",
       "    <tr>\n",
       "      <th>9</th>\n",
       "      <td>\"UTTAR PRADESH\"</td>\n",
       "      <td>\"TOTAL\"</td>\n",
       "      <td>2002</td>\n",
       "      <td>2891</td>\n",
       "      <td>2298</td>\n",
       "    </tr>\n",
       "    <tr>\n",
       "      <th>10</th>\n",
       "      <td>\"UTTAR PRADESH\"</td>\n",
       "      <td>\"TOTAL\"</td>\n",
       "      <td>2005</td>\n",
       "      <td>2921</td>\n",
       "      <td>2256</td>\n",
       "    </tr>\n",
       "    <tr>\n",
       "      <th>11</th>\n",
       "      <td>\"RAJASTHAN\"</td>\n",
       "      <td>\"TOTAL\"</td>\n",
       "      <td>2003</td>\n",
       "      <td>2738</td>\n",
       "      <td>1750</td>\n",
       "    </tr>\n",
       "  </tbody>\n",
       "</table>\n",
       "</div>"
      ],
      "text/plain": [
       "                 UT    DISTRICT    Year    Rape                  Kidnapping\n",
       "0        \"STATE/UT\"  \"DISTRICT\"  \"Year\"  \"Rape\"  \"Kidnapping and Abduction\"\n",
       "1   \"UTTAR PRADESH\"     \"TOTAL\"    2010    3135                        5468\n",
       "2   \"UTTAR PRADESH\"     \"TOTAL\"    2009    2998                        5078\n",
       "3   \"UTTAR PRADESH\"     \"TOTAL\"    2008    2937                        4439\n",
       "4   \"UTTAR PRADESH\"     \"TOTAL\"    2007    3010                        3363\n",
       "5           \"ASSAM\"     \"TOTAL\"    2011    1700                        3192\n",
       "6   \"UTTAR PRADESH\"     \"TOTAL\"    2001    2851                        2879\n",
       "7   \"UTTAR PRADESH\"     \"TOTAL\"    2006    2900                        2551\n",
       "8   \"UTTAR PRADESH\"     \"TOTAL\"    2004    2875                        2324\n",
       "9   \"UTTAR PRADESH\"     \"TOTAL\"    2002    2891                        2298\n",
       "10  \"UTTAR PRADESH\"     \"TOTAL\"    2005    2921                        2256\n",
       "11      \"RAJASTHAN\"     \"TOTAL\"    2003    2738                        1750"
      ]
     },
     "execution_count": 28,
     "metadata": {},
     "output_type": "execute_result"
    }
   ],
   "source": [
    "df"
   ]
  },
  {
   "cell_type": "code",
   "execution_count": 29,
   "id": "adad46b0",
   "metadata": {},
   "outputs": [
    {
     "data": {
      "text/plain": [
       "\"TOTAL\"       11\n",
       "\"DISTRICT\"     1\n",
       "Name: DISTRICT, dtype: int64"
      ]
     },
     "execution_count": 29,
     "metadata": {},
     "output_type": "execute_result"
    }
   ],
   "source": [
    "df['DISTRICT'].value_counts()"
   ]
  },
  {
   "cell_type": "markdown",
   "id": "b58d6055",
   "metadata": {},
   "source": [
    "* It is evident from above that Murshidabad is the state that has been around for more than three years."
   ]
  },
  {
   "cell_type": "code",
   "execution_count": 30,
   "id": "a36fc47e",
   "metadata": {},
   "outputs": [],
   "source": [
    "from sqlalchemy import create_engine"
   ]
  },
  {
   "cell_type": "markdown",
   "id": "9349787b",
   "metadata": {},
   "source": [
    "# Examining districts that have been there for three or more years, and printing the state/UT, district, number of homicides, and year in descending order:-"
   ]
  },
  {
   "cell_type": "code",
   "execution_count": 31,
   "id": "89f2505b",
   "metadata": {},
   "outputs": [],
   "source": [
    "engine = create_engine(\"sqlite+pysqlite:///:memory:\")"
   ]
  },
  {
   "cell_type": "code",
   "execution_count": 32,
   "id": "489db0db",
   "metadata": {},
   "outputs": [
    {
     "data": {
      "text/plain": [
       "12"
      ]
     },
     "execution_count": 32,
     "metadata": {},
     "output_type": "execute_result"
    }
   ],
   "source": [
    "df.to_sql('district_data', engine)"
   ]
  },
  {
   "cell_type": "code",
   "execution_count": 33,
   "id": "0ca2946a",
   "metadata": {},
   "outputs": [],
   "source": [
    "from sqlalchemy import text"
   ]
  },
  {
   "cell_type": "code",
   "execution_count": 34,
   "id": "b6566d65",
   "metadata": {},
   "outputs": [
    {
     "name": "stdout",
     "output_type": "stream",
     "text": [
      "('\"UTTAR PRADESH\"', '\"TOTAL\"', '2010')\n",
      "('\"UTTAR PRADESH\"', '\"TOTAL\"', '2009')\n",
      "('\"UTTAR PRADESH\"', '\"TOTAL\"', '2008')\n"
     ]
    }
   ],
   "source": [
    "with engine.connect() as conn:\n",
    "    result = conn.execute(text(\"select UT, DISTRICT ,Year FROM district_data ORDER BY UT DESC LIMIT 3\"))\n",
    "    for row in result:\n",
    "        print(row)"
   ]
  },
  {
   "cell_type": "markdown",
   "id": "1808f570",
   "metadata": {},
   "source": [
    "* According to the West Bengal results above, Murshidabad is the district that showed up more than three times in a given year."
   ]
  },
  {
   "cell_type": "markdown",
   "id": "e31fbd34",
   "metadata": {},
   "source": [
    "# 3.8.4) Use appropriate graphs to show your data (the result of 3.8.3):-"
   ]
  },
  {
   "cell_type": "code",
   "execution_count": 35,
   "id": "e198eee6",
   "metadata": {},
   "outputs": [],
   "source": [
    "import matplotlib.pyplot as plt\n",
    "import seaborn as sns"
   ]
  },
  {
   "cell_type": "code",
   "execution_count": 36,
   "id": "61aa7f5e",
   "metadata": {},
   "outputs": [
    {
     "data": {
      "image/png": "[encoded data removed]",
      "text/plain": [
       "<Figure size 640x480 with 1 Axes>"
      ]
     },
     "metadata": {},
     "output_type": "display_data"
    }
   ],
   "source": [
    "df['Rape'] = pd.to_numeric(df['Rape'], errors='coerce')\n",
    "sns.barplot(x=df['DISTRICT'], y=df['Rape'])\n",
    "plt.xticks(rotation=90)\n",
    "plt.show()"
   ]
  },
  {
   "cell_type": "markdown",
   "id": "73ffe44b",
   "metadata": {},
   "source": [
    "* According to the dataframe, the district in West Bengal with the highest number of rape cases is Murshidabad, whereas the district in Assam with the lowest number of rape crimes is Guwahati City."
   ]
  },
  {
   "cell_type": "markdown",
   "id": "75b64e09",
   "metadata": {},
   "source": [
    "# District vs. Kidnapping Analysis:-"
   ]
  },
  {
   "cell_type": "code",
   "execution_count": 37,
   "id": "5b0bda06",
   "metadata": {},
   "outputs": [
    {
     "data": {
      "image/png": "[encoded data removed]",
      "text/plain": [
       "<Figure size 640x480 with 1 Axes>"
      ]
     },
     "metadata": {},
     "output_type": "display_data"
    }
   ],
   "source": [
    "df['Kidnapping'] = pd.to_numeric(df['Kidnapping'], errors='coerce')\n",
    "sns.barplot(x=df['DISTRICT'], y=df['Kidnapping'])\n",
    "plt.xticks(rotation=90)\n",
    "plt.show()"
   ]
  },
  {
   "cell_type": "markdown",
   "id": "271e3f94",
   "metadata": {},
   "source": [
    "* According to the resultant Dataframe, the district of Murshidabad in West Bengal has the largest number of kidnapping cases, while the district of Guwahati City in Assam has the lowest number of cases."
   ]
  },
  {
   "cell_type": "code",
   "execution_count": null,
   "id": "6f9823b3",
   "metadata": {},
   "outputs": [],
   "source": []
  }
 ],
 "metadata": {
  "kernelspec": {
   "display_name": "Python 3 (ipykernel)",
   "language": "python",
   "name": "python3"
  },
  "language_info": {
   "codemirror_mode": {
    "name": "ipython",
    "version": 3
   },
   "file_extension": ".py",
   "mimetype": "text/x-python",
   "name": "python",
   "nbconvert_exporter": "python",
   "pygments_lexer": "ipython3",
   "version": "3.10.9"
  }
 },
 "nbformat": 4,
 "nbformat_minor": 5
}
